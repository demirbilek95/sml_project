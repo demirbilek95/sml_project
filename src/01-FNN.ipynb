{
 "cells": [
  {
   "cell_type": "markdown",
   "metadata": {},
   "source": [
    "## Data Preprocessing"
   ]
  },
  {
   "cell_type": "code",
   "execution_count": 1,
   "metadata": {},
   "outputs": [],
   "source": [
    "import os\n",
    "from glob import glob\n",
    "import numpy as np\n",
    "from PIL import Image\n",
    "from tqdm.notebook import tqdm\n",
    "import matplotlib.pyplot as plt\n",
    "\n",
    "import torch\n",
    "import torch.nn as nn\n",
    "import torch.nn.functional as F\n",
    "from torch.utils.data import Dataset\n",
    "import torch.optim as optim\n",
    "\n",
    "from torchvision import transforms\n",
    "from torchvision.datasets import ImageFolder\n",
    "from torchvision.utils import make_grid\n"
   ]
  },
  {
   "cell_type": "code",
   "execution_count": 2,
   "metadata": {},
   "outputs": [
    {
     "name": "stdout",
     "output_type": "stream",
     "text": [
      "Running on cpu\n"
     ]
    }
   ],
   "source": [
    "# check if machine has gpu\n",
    "device = torch.device(\"cuda:0\" if torch.cuda.is_available() else \"cpu\")\n",
    "print(\"Running on\",device)"
   ]
  },
  {
   "cell_type": "code",
   "execution_count": 3,
   "metadata": {},
   "outputs": [
    {
     "name": "stdout",
     "output_type": "stream",
     "text": [
      "Number of images in Training file: 67692\n"
     ]
    }
   ],
   "source": [
    "# data path that training set is located\n",
    "path = \"../data/fruits/fruits-360/\"\n",
    "# this joins the path + folder and each files e.g. '../data/fruits/fruits-360/Training/Apple Braeburn/115_100.jpg'\n",
    "files_training = glob(os.path.join(path,'Training', '*/*.jpg'))\n",
    "num_images = len(files_training)\n",
    "print('Number of images in Training file:', num_images)"
   ]
  },
  {
   "cell_type": "code",
   "execution_count": 4,
   "metadata": {
    "scrolled": true
   },
   "outputs": [
    {
     "name": "stdout",
     "output_type": "stream",
     "text": [
      "class             Count:\n",
      "------------------------\n",
      "Apple Braeburn       492\n",
      "Apple Crimson Snow   444\n",
      "Apple Golden 1       480\n",
      "Apple Golden 2       492\n",
      "Apple Golden 3       481\n",
      "Apple Granny Smith   492\n",
      "Apple Pink Lady      456\n",
      "Apple Red 1          492\n",
      "Apple Red 2          492\n",
      "Apple Red 3          429\n",
      "Apple Red Delicious  490\n",
      "Apple Red Yellow 1   492\n",
      "Apple Red Yellow 2   672\n",
      "Apricot              492\n",
      "Avocado              427\n",
      "Avocado ripe         491\n",
      "Banana               490\n",
      "Banana Lady Finger   450\n",
      "Beetroot             450\n",
      "Blueberry            462\n",
      "Cactus fruit         490\n",
      "Cantaloupe 1         492\n",
      "Cantaloupe 2         492\n",
      "Carambula            490\n",
      "Cauliflower          702\n",
      "Cherry 1             492\n",
      "Cherry 2             738\n",
      "Cherry Rainier       738\n",
      "Cherry Wax Black     492\n",
      "Cherry Wax Red       492\n",
      "Cherry Wax Yellow    492\n",
      "Chestnut             450\n",
      "Clementine           490\n",
      "Cocos                490\n",
      "Corn                 450\n",
      "Corn Husk            462\n",
      "Cucumber Ripe 2      468\n",
      "Dates                490\n",
      "Eggplant             468\n",
      "Fig                  702\n",
      "Ginger Root          297\n",
      "Granadilla           490\n",
      "Grape Blue           984\n",
      "Grape Pink           492\n",
      "Grape White          490\n",
      "Grape White 2        490\n",
      "Grape White 3        492\n",
      "Grape White 4        471\n",
      "Grapefruit Pink      490\n",
      "Grapefruit White     492\n",
      "Guava                490\n",
      "Hazelnut             464\n",
      "Huckleberry          490\n",
      "Kaki                 490\n",
      "Kiwi                 466\n",
      "Kumquats             490\n",
      "Lemon                492\n",
      "Lemon Meyer          490\n",
      "Limes                490\n",
      "Lychee               490\n",
      "Mandarine            490\n",
      "Mango                490\n",
      "Mango Red            426\n",
      "Mangostan            300\n",
      "Maracuja             490\n",
      "Melon Piel de Sapo   738\n",
      "Mulberry             492\n",
      "Nectarine            492\n",
      "Nectarine Flat       480\n",
      "Nut Forest           654\n",
      "Nut Pecan            534\n",
      "Onion Red            450\n",
      "Onion Red Peeled     445\n",
      "Onion White          438\n",
      "Papaya               492\n",
      "Passion Fruit        490\n",
      "Peach                492\n",
      "Peach 2              738\n",
      "Peach Flat           492\n",
      "Pear                 492\n",
      "Pear 2               696\n",
      "Pear Abate           490\n",
      "Pear Forelle         702\n",
      "Pear Kaiser          300\n",
      "Pear Monster         490\n",
      "Pear Red             666\n",
      "Pear Stone           711\n",
      "Pear Williams        490\n",
      "Pepino               490\n",
      "Pepper Green         444\n",
      "Pepper Orange        702\n",
      "Pepper Red           666\n",
      "Pepper Yellow        666\n",
      "Banana Red           490\n",
      "Cucumber Ripe        392\n",
      "Kohlrabi             471\n",
      "Orange               479\n",
      "Physalis             492\n",
      "Physalis with Husk   492\n",
      "Pineapple            490\n",
      "Pineapple Mini       493\n",
      "Pitahaya Red         490\n",
      "Plum                 447\n",
      "Plum 2               420\n",
      "Plum 3               900\n",
      "Pomegranate          492\n",
      "Pomelo Sweetie       450\n",
      "Potato Red           450\n",
      "Potato Red Washed    453\n",
      "Potato Sweet         450\n",
      "Potato White         450\n",
      "Quince               490\n",
      "Rambutan             492\n",
      "Raspberry            490\n",
      "Redcurrant           492\n",
      "Salak                490\n",
      "Strawberry           492\n",
      "Strawberry Wedge     738\n",
      "Tamarillo            490\n",
      "Tangelo              490\n",
      "Tomato 1             738\n",
      "Tomato 2             672\n",
      "Tomato 3             738\n",
      "Tomato 4             479\n",
      "Tomato Cherry Red    492\n",
      "Tomato Heart         684\n",
      "Tomato Maroon        367\n",
      "Tomato not Ripened   474\n",
      "Tomato Yellow        459\n",
      "Walnut               735\n",
      "Watermelon           475\n",
      "\n",
      "Minumum images per category: 297 Category: Ginger Root\n",
      "Average number of Images per Category: 517\n",
      "Total number of classes: 131\n"
     ]
    }
   ],
   "source": [
    "# just to see how many images we have for each label, minimum one and average one, with nice printing style\n",
    "\n",
    "min_images = 1000\n",
    "im_cnt = []\n",
    "class_names = []\n",
    "print('{:18s}'.format('class'), end='')\n",
    "print('Count:')\n",
    "print('-' * 24)\n",
    "for folder in os.listdir(os.path.join(path, 'Training')):\n",
    "    folder_num = len(os.listdir(os.path.join(path,'Training',folder)))\n",
    "    im_cnt.append(folder_num)\n",
    "    class_names.append(folder)\n",
    "    print('{:20s}'.format(folder), end=' ')\n",
    "    print(folder_num)\n",
    "        \n",
    "num_classes = len(class_names)\n",
    "print(\"\\nMinumum images per category:\", np.min(im_cnt), 'Category:', class_names[im_cnt.index(np.min(im_cnt))])    \n",
    "print('Average number of Images per Category: {:.0f}'.format(np.array(im_cnt).mean()))\n",
    "print('Total number of classes: {}'.format(num_classes))"
   ]
  },
  {
   "cell_type": "code",
   "execution_count": 5,
   "metadata": {},
   "outputs": [],
   "source": [
    "# Just to guess pop_mean and pop_std\n",
    "\n",
    "tensor_transform = transforms.Compose([transforms.ToTensor()])\n",
    "\n",
    "training_data = ImageFolder(os.path.join(path, 'Training'), tensor_transform)\n",
    "\n",
    "data_loader = torch.utils.data.DataLoader(training_data, batch_size=512, shuffle=True)"
   ]
  },
  {
   "cell_type": "code",
   "execution_count": 6,
   "metadata": {
    "scrolled": true
   },
   "outputs": [
    {
     "name": "stdout",
     "output_type": "stream",
     "text": [
      "CPU times: user 2 µs, sys: 1 µs, total: 3 µs\n",
      "Wall time: 4.05 µs\n",
      "[0.6840367, 0.5786325, 0.5037564]\n",
      "[0.30334985, 0.3599262, 0.3913685]\n"
     ]
    }
   ],
   "source": [
    "%time\n",
    "# this part takes a bit long\n",
    "pop_mean = [0.6840367,0.5786325,0.5037564]  # normally it was --> []\n",
    "pop_std = [0.30334985,0.3599262,0.3913685]\n",
    "\n",
    "# for i, data in tqdm(enumerate(data_loader, 0)):\n",
    "#     numpy_image = data[0].numpy()\n",
    "    \n",
    "#     batch_mean = np.mean(numpy_image, axis=(0,2,3))\n",
    "#     batch_std = np.std(numpy_image, axis=(0,2,3))\n",
    "    \n",
    "#     pop_mean.append(batch_mean)\n",
    "#     pop_std.append(batch_std)\n",
    "\n",
    "# pop_mean = np.array(pop_mean).mean(axis=0)\n",
    "# pop_std = np.array(pop_std).mean(axis=0)\n",
    "\n",
    "# that is why I am inserting last values \n",
    "\n",
    "print(pop_mean)\n",
    "print(pop_std)"
   ]
  },
  {
   "cell_type": "code",
   "execution_count": 7,
   "metadata": {},
   "outputs": [],
   "source": [
    "np.random.seed(123)\n",
    "shuffle = np.random.permutation(num_images)"
   ]
  },
  {
   "cell_type": "code",
   "execution_count": 8,
   "metadata": {},
   "outputs": [
    {
     "name": "stdout",
     "output_type": "stream",
     "text": [
      "Total number of images: 67692\n",
      "Number images in validation set: 13538\n",
      "Number images in train set: 54154\n"
     ]
    }
   ],
   "source": [
    "# split validation images\n",
    "\n",
    "split_val = int(num_images * 0.2)\n",
    "print('Total number of images:', num_images)\n",
    "print('Number images in validation set:',len(shuffle[:split_val]))\n",
    "print('Number images in train set:',len(shuffle[split_val:]))"
   ]
  },
  {
   "cell_type": "code",
   "execution_count": 9,
   "metadata": {},
   "outputs": [],
   "source": [
    "class FruitTrainDataset(Dataset):\n",
    "    def __init__(self, files, shuffle, split_val, class_names, transform=transforms.ToTensor()):\n",
    "        self.shuffle = shuffle\n",
    "        self.class_names = class_names\n",
    "        self.split_val = split_val\n",
    "        self.data = np.array([files[i] for i in shuffle[split_val:]])\n",
    "        self.transform=transform\n",
    "        \n",
    "    def __len__(self):\n",
    "        return len(self.data)\n",
    "    \n",
    "    def __getitem__(self, idx):\n",
    "        img = Image.open(self.data[idx])\n",
    "        name = self.data[idx].split('/')[-2]\n",
    "        y = self.class_names.index(name)\n",
    "        img = self.transform(img)\n",
    "            \n",
    "        return img, y\n",
    "\n",
    "class FruitValidDataset(Dataset):\n",
    "    def __init__(self, files, shuffle, split_val, class_names, transform=transforms.ToTensor()):\n",
    "        self.shuffle = shuffle\n",
    "        self.class_names = class_names\n",
    "        self.split_val = split_val\n",
    "        self.data = np.array([files[i] for i in shuffle[:split_val]])\n",
    "        self.transform=transform\n",
    "        \n",
    "    def __len__(self):\n",
    "        return len(self.data)\n",
    "    \n",
    "    def __getitem__(self, idx):\n",
    "        img = Image.open(self.data[idx])\n",
    "        name = self.data[idx].split('/')[-2]\n",
    "        y = self.class_names.index(name)\n",
    "        img = self.transform(img)\n",
    "            \n",
    "        return img, y\n",
    "    \n",
    "class FruitTestDataset(Dataset):\n",
    "    def __init__(self, path, class_names, transform=transforms.ToTensor()):\n",
    "        self.class_names = class_names\n",
    "        self.data = np.array(glob(os.path.join(path, '*/*.jpg')))\n",
    "        self.transform=transform\n",
    "        \n",
    "    def __len__(self):\n",
    "        return len(self.data)\n",
    "    \n",
    "    def __getitem__(self, idx):\n",
    "        img = Image.open(self.data[idx])\n",
    "        name = self.data[idx].split('/')[-2]\n",
    "        y = self.class_names.index(name)\n",
    "        img = self.transform(img)\n",
    "            \n",
    "        return img, y"
   ]
  },
  {
   "cell_type": "code",
   "execution_count": 10,
   "metadata": {},
   "outputs": [],
   "source": [
    "data_transforms = {\n",
    "    'train': transforms.Compose([\n",
    "        transforms.RandomHorizontalFlip(),\n",
    "        transforms.RandomVerticalFlip(),\n",
    "        transforms.ToTensor(),\n",
    "        transforms.Normalize(pop_mean, pop_std) # These were the mean and standard deviations that we calculated earlier.\n",
    "    ]),\n",
    "    'Test': transforms.Compose([\n",
    "        transforms.ToTensor(),\n",
    "        transforms.Normalize(pop_mean, pop_std) # These were the mean and standard deviations that we calculated earlier.\n",
    "    ]),\n",
    "    'valid': transforms.Compose([\n",
    "        transforms.ToTensor(),\n",
    "        transforms.Normalize(pop_mean, pop_std) # These were the mean and standard deviations that we calculated earlier.\n",
    "    ])\n",
    "}\n",
    "\n",
    "train_dataset = FruitTrainDataset(files_training, shuffle, split_val, class_names, data_transforms['train'])\n",
    "valid_dataset = FruitValidDataset(files_training, shuffle, split_val, class_names, data_transforms['valid'])\n",
    "test_dataset = FruitTestDataset(\"../data/fruits/fruits-360/Test\", class_names, transform=data_transforms['Test'])\n",
    "\n",
    "train_loader = torch.utils.data.DataLoader(train_dataset, batch_size=32, shuffle=True)\n",
    "valid_loader = torch.utils.data.DataLoader(valid_dataset, batch_size=32, shuffle=True)\n",
    "test_loader = torch.utils.data.DataLoader(test_dataset, batch_size=32, shuffle=True)"
   ]
  },
  {
   "cell_type": "code",
   "execution_count": 11,
   "metadata": {},
   "outputs": [],
   "source": [
    "dataloaders = {'train': train_loader,\n",
    "              'valid': valid_loader,\n",
    "              'Test': test_loader}\n",
    "dataset_sizes = {\n",
    "    'train': len(train_dataset),\n",
    "    'valid': len(valid_dataset),\n",
    "    'Test': len(test_dataset)\n",
    "}"
   ]
  },
  {
   "cell_type": "code",
   "execution_count": 12,
   "metadata": {},
   "outputs": [],
   "source": [
    "def imshow(inp, title=None):\n",
    "    \"\"\"Imshow for Tensor.\"\"\"\n",
    "    inp = inp.numpy().transpose((1, 2, 0))\n",
    "    inp = pop_std * inp + pop_mean\n",
    "    inp = np.clip(inp, 0, 1)\n",
    "    plt.imshow(inp)\n",
    "    if title is not None:\n",
    "        plt.title(title)\n",
    "    plt.pause(0.001)"
   ]
  },
  {
   "cell_type": "code",
   "execution_count": 13,
   "metadata": {
    "scrolled": true
   },
   "outputs": [
    {
     "data": {
      "image/png": "[encoded data removed]",
      "text/plain": [
       "<Figure size 432x288 with 1 Axes>"
      ]
     },
     "metadata": {
      "needs_background": "light"
     },
     "output_type": "display_data"
    },
    {
     "name": "stdout",
     "output_type": "stream",
     "text": [
      "['Lemon', 'Beetroot', 'Pepino', 'Granadilla', 'Avocado ripe', 'Cantaloupe 1', 'Pear Red', 'Grape White 4', 'Corn', 'Apple Red 1', 'Grape White', 'Tomato Heart', 'Tomato Cherry Red', 'Cherry Wax Black', 'Apple Braeburn', 'Cherry 2', 'Tomato 4', 'Tomato 2', 'Pear 2', 'Nectarine', 'Pepper Red', 'Dates', 'Pear 2', 'Pear Kaiser', 'Peach 2', 'Cherry 2', 'Dates', 'Plum 2', 'Cauliflower', 'Tomato not Ripened', 'Pear Red', 'Apple Red 1']\n"
     ]
    }
   ],
   "source": [
    "inputs, classes = next(iter(train_loader))\n",
    "out = make_grid(inputs)\n",
    "\n",
    "cats = ['' for x in range(len(classes))]\n",
    "for i in range(len(classes)):\n",
    "    cats[i] = class_names[classes[i].item()]\n",
    "    \n",
    "imshow(out)\n",
    "print(cats)"
   ]
  },
  {
   "cell_type": "code",
   "execution_count": 14,
   "metadata": {},
   "outputs": [
    {
     "name": "stdout",
     "output_type": "stream",
     "text": [
      "torch.Size([32, 3, 100, 100]) torch.Size([32, 3, 100, 100])\n"
     ]
    }
   ],
   "source": [
    "# just to check if shape of train and test sets match\n",
    "for i,j in zip(train_loader,test_loader):\n",
    "    print(i[0].shape,j[0].shape)\n",
    "    break"
   ]
  },
  {
   "cell_type": "markdown",
   "metadata": {},
   "source": [
    "## Network"
   ]
  },
  {
   "cell_type": "code",
   "execution_count": 15,
   "metadata": {},
   "outputs": [
    {
     "name": "stdout",
     "output_type": "stream",
     "text": [
      "Net(\n",
      "  (fc1): Linear(in_features=30000, out_features=64, bias=True)\n",
      "  (fc2): Linear(in_features=64, out_features=64, bias=True)\n",
      "  (fc3): Linear(in_features=64, out_features=64, bias=True)\n",
      "  (fc4): Linear(in_features=64, out_features=131, bias=True)\n",
      ")\n"
     ]
    }
   ],
   "source": [
    "# just to start from the basic NN and to observe how does it perform on data\n",
    "# with horizontal and vertical flip we have 3x100x100\n",
    "# batch size is 64\n",
    "\n",
    "class Net(nn.Module):\n",
    "    def __init__(self):\n",
    "        super().__init__() # initialize the parent class methods\n",
    "        self.fc1 = nn.Linear(3*100*100, 64)\n",
    "        self.fc2 = nn.Linear(64, 64)\n",
    "        self.fc3 = nn.Linear(64, 64)\n",
    "        self.fc4 = nn.Linear(64, 131)\n",
    "        \n",
    "    def forward(self,x):\n",
    "        x = F.relu(self.fc1(x))\n",
    "        x = F.relu(self.fc2(x))\n",
    "        x = F.relu(self.fc3(x))\n",
    "        x = self.fc4(x)\n",
    "        \n",
    "        return F.log_softmax(x,dim=1)\n",
    "    \n",
    "net = Net()\n",
    "print(net)"
   ]
  },
  {
   "cell_type": "code",
   "execution_count": 16,
   "metadata": {},
   "outputs": [],
   "source": [
    "# move network to GPU\n",
    "net = Net().to(device)"
   ]
  },
  {
   "cell_type": "code",
   "execution_count": 17,
   "metadata": {},
   "outputs": [],
   "source": [
    "criterion = nn.CrossEntropyLoss()\n",
    "optimizer = optim.SGD(net.parameters(), lr=0.001, momentum=0.7)"
   ]
  },
  {
   "cell_type": "code",
   "execution_count": 20,
   "metadata": {
    "scrolled": true
   },
   "outputs": [
    {
     "data": {
      "application/vnd.jupyter.widget-view+json": {
       "model_id": "e90ccc1e94f649158f5ca3687febf25a",
       "version_major": 2,
       "version_minor": 0
      },
      "text/plain": [
       "HBox(children=(FloatProgress(value=0.0, max=10.0), HTML(value='')))"
      ]
     },
     "metadata": {},
     "output_type": "display_data"
    },
    {
     "name": "stdout",
     "output_type": "stream",
     "text": [
      "epoch 0\n",
      "[0,   100] loss: 4.863, in sample accuracy: 0.017\n",
      "[0,   200] loss: 4.806, in sample accuracy: 0.030\n",
      "[0,   300] loss: 4.747, in sample accuracy: 0.040\n",
      "[0,   400] loss: 4.651, in sample accuracy: 0.060\n",
      "[0,   500] loss: 4.523, in sample accuracy: 0.077\n",
      "[0,   600] loss: 4.360, in sample accuracy: 0.079\n",
      "[0,   700] loss: 4.119, in sample accuracy: 0.097\n",
      "[0,   800] loss: 3.828, in sample accuracy: 0.137\n",
      "[0,   900] loss: 3.504, in sample accuracy: 0.196\n",
      "[0,  1000] loss: 3.193, in sample accuracy: 0.232\n",
      "[0,  1100] loss: 2.871, in sample accuracy: 0.250\n",
      "[0,  1200] loss: 2.583, in sample accuracy: 0.312\n",
      "[0,  1300] loss: 2.397, in sample accuracy: 0.361\n",
      "[0,  1400] loss: 2.212, in sample accuracy: 0.374\n",
      "[0,  1500] loss: 2.099, in sample accuracy: 0.410\n",
      "[0,  1600] loss: 1.891, in sample accuracy: 0.459\n",
      "epoch 1\n",
      "[1,   100] loss: 1.676, in sample accuracy: 0.519\n",
      "[1,   200] loss: 1.607, in sample accuracy: 0.532\n",
      "[1,   300] loss: 1.533, in sample accuracy: 0.552\n",
      "[1,   400] loss: 1.414, in sample accuracy: 0.597\n",
      "[1,   500] loss: 1.351, in sample accuracy: 0.602\n",
      "[1,   600] loss: 1.279, in sample accuracy: 0.634\n",
      "[1,   700] loss: 1.193, in sample accuracy: 0.658\n",
      "[1,   800] loss: 1.150, in sample accuracy: 0.661\n",
      "[1,   900] loss: 1.094, in sample accuracy: 0.683\n",
      "[1,  1000] loss: 1.026, in sample accuracy: 0.694\n",
      "[1,  1100] loss: 1.003, in sample accuracy: 0.702\n",
      "[1,  1200] loss: 0.965, in sample accuracy: 0.704\n",
      "[1,  1300] loss: 0.931, in sample accuracy: 0.725\n",
      "[1,  1400] loss: 0.878, in sample accuracy: 0.744\n",
      "[1,  1500] loss: 0.818, in sample accuracy: 0.752\n",
      "[1,  1600] loss: 0.791, in sample accuracy: 0.764\n",
      "epoch 2\n",
      "[2,   100] loss: 0.772, in sample accuracy: 0.762\n",
      "[2,   200] loss: 0.736, in sample accuracy: 0.778\n",
      "[2,   300] loss: 0.716, in sample accuracy: 0.787\n",
      "[2,   400] loss: 0.678, in sample accuracy: 0.807\n",
      "[2,   500] loss: 0.669, in sample accuracy: 0.799\n",
      "[2,   600] loss: 0.626, in sample accuracy: 0.815\n",
      "[2,   700] loss: 0.645, in sample accuracy: 0.808\n",
      "[2,   800] loss: 0.606, in sample accuracy: 0.816\n",
      "[2,   900] loss: 0.618, in sample accuracy: 0.814\n",
      "[2,  1000] loss: 0.627, in sample accuracy: 0.813\n",
      "[2,  1100] loss: 0.585, in sample accuracy: 0.818\n",
      "[2,  1200] loss: 0.584, in sample accuracy: 0.829\n",
      "[2,  1300] loss: 0.591, in sample accuracy: 0.820\n",
      "[2,  1400] loss: 0.531, in sample accuracy: 0.829\n",
      "[2,  1500] loss: 0.547, in sample accuracy: 0.835\n",
      "[2,  1600] loss: 0.518, in sample accuracy: 0.839\n",
      "epoch 3\n",
      "[3,   100] loss: 0.516, in sample accuracy: 0.837\n",
      "[3,   200] loss: 0.476, in sample accuracy: 0.850\n",
      "[3,   300] loss: 0.498, in sample accuracy: 0.846\n",
      "[3,   400] loss: 0.468, in sample accuracy: 0.855\n",
      "[3,   500] loss: 0.430, in sample accuracy: 0.869\n",
      "[3,   600] loss: 0.465, in sample accuracy: 0.857\n",
      "[3,   700] loss: 0.426, in sample accuracy: 0.880\n",
      "[3,   800] loss: 0.440, in sample accuracy: 0.863\n",
      "[3,   900] loss: 0.450, in sample accuracy: 0.861\n",
      "[3,  1000] loss: 0.399, in sample accuracy: 0.877\n",
      "[3,  1100] loss: 0.354, in sample accuracy: 0.895\n",
      "[3,  1200] loss: 0.396, in sample accuracy: 0.882\n",
      "[3,  1300] loss: 0.404, in sample accuracy: 0.882\n",
      "[3,  1400] loss: 0.372, in sample accuracy: 0.886\n",
      "[3,  1500] loss: 0.373, in sample accuracy: 0.893\n",
      "[3,  1600] loss: 0.345, in sample accuracy: 0.895\n",
      "epoch 4\n",
      "[4,   100] loss: 0.363, in sample accuracy: 0.888\n",
      "[4,   200] loss: 0.366, in sample accuracy: 0.887\n",
      "[4,   300] loss: 0.320, in sample accuracy: 0.905\n",
      "[4,   400] loss: 0.331, in sample accuracy: 0.897\n",
      "[4,   500] loss: 0.326, in sample accuracy: 0.902\n",
      "[4,   600] loss: 0.347, in sample accuracy: 0.895\n",
      "[4,   700] loss: 0.319, in sample accuracy: 0.907\n",
      "[4,   800] loss: 0.284, in sample accuracy: 0.916\n",
      "[4,   900] loss: 0.312, in sample accuracy: 0.904\n",
      "[4,  1000] loss: 0.299, in sample accuracy: 0.912\n",
      "[4,  1100] loss: 0.316, in sample accuracy: 0.901\n",
      "[4,  1200] loss: 0.305, in sample accuracy: 0.903\n",
      "[4,  1300] loss: 0.306, in sample accuracy: 0.902\n",
      "[4,  1400] loss: 0.284, in sample accuracy: 0.910\n",
      "[4,  1500] loss: 0.260, in sample accuracy: 0.921\n",
      "[4,  1600] loss: 0.260, in sample accuracy: 0.921\n",
      "epoch 5\n",
      "[5,   100] loss: 0.253, in sample accuracy: 0.918\n",
      "[5,   200] loss: 0.275, in sample accuracy: 0.917\n",
      "[5,   300] loss: 0.249, in sample accuracy: 0.927\n",
      "[5,   400] loss: 0.243, in sample accuracy: 0.923\n",
      "[5,   500] loss: 0.239, in sample accuracy: 0.930\n",
      "[5,   600] loss: 0.259, in sample accuracy: 0.920\n",
      "[5,   700] loss: 0.248, in sample accuracy: 0.930\n",
      "[5,   800] loss: 0.243, in sample accuracy: 0.927\n",
      "[5,   900] loss: 0.234, in sample accuracy: 0.931\n",
      "[5,  1000] loss: 0.247, in sample accuracy: 0.925\n",
      "[5,  1100] loss: 0.214, in sample accuracy: 0.939\n",
      "[5,  1200] loss: 0.237, in sample accuracy: 0.929\n",
      "[5,  1300] loss: 0.234, in sample accuracy: 0.925\n",
      "[5,  1400] loss: 0.244, in sample accuracy: 0.932\n",
      "[5,  1500] loss: 0.208, in sample accuracy: 0.939\n",
      "[5,  1600] loss: 0.216, in sample accuracy: 0.934\n",
      "epoch 6\n",
      "[6,   100] loss: 0.193, in sample accuracy: 0.940\n",
      "[6,   200] loss: 0.180, in sample accuracy: 0.949\n",
      "[6,   300] loss: 0.214, in sample accuracy: 0.938\n",
      "[6,   400] loss: 0.214, in sample accuracy: 0.932\n",
      "[6,   500] loss: 0.220, in sample accuracy: 0.933\n",
      "[6,   600] loss: 0.208, in sample accuracy: 0.934\n",
      "[6,   700] loss: 0.195, in sample accuracy: 0.940\n",
      "[6,   800] loss: 0.178, in sample accuracy: 0.948\n",
      "[6,   900] loss: 0.185, in sample accuracy: 0.951\n",
      "[6,  1000] loss: 0.186, in sample accuracy: 0.944\n",
      "[6,  1100] loss: 0.180, in sample accuracy: 0.943\n",
      "[6,  1200] loss: 0.189, in sample accuracy: 0.939\n",
      "[6,  1300] loss: 0.172, in sample accuracy: 0.946\n",
      "[6,  1400] loss: 0.175, in sample accuracy: 0.947\n",
      "[6,  1500] loss: 0.173, in sample accuracy: 0.945\n",
      "[6,  1600] loss: 0.175, in sample accuracy: 0.948\n",
      "epoch 7\n",
      "[7,   100] loss: 0.157, in sample accuracy: 0.958\n",
      "[7,   200] loss: 0.159, in sample accuracy: 0.953\n",
      "[7,   300] loss: 0.165, in sample accuracy: 0.946\n",
      "[7,   400] loss: 0.162, in sample accuracy: 0.953\n",
      "[7,   500] loss: 0.167, in sample accuracy: 0.952\n",
      "[7,   600] loss: 0.172, in sample accuracy: 0.948\n",
      "[7,   700] loss: 0.169, in sample accuracy: 0.946\n",
      "[7,   800] loss: 0.141, in sample accuracy: 0.963\n",
      "[7,   900] loss: 0.158, in sample accuracy: 0.952\n",
      "[7,  1000] loss: 0.146, in sample accuracy: 0.961\n",
      "[7,  1100] loss: 0.149, in sample accuracy: 0.958\n",
      "[7,  1200] loss: 0.178, in sample accuracy: 0.948\n",
      "[7,  1300] loss: 0.154, in sample accuracy: 0.954\n",
      "[7,  1400] loss: 0.143, in sample accuracy: 0.956\n",
      "[7,  1500] loss: 0.141, in sample accuracy: 0.957\n",
      "[7,  1600] loss: 0.135, in sample accuracy: 0.958\n",
      "epoch 8\n",
      "[8,   100] loss: 0.158, in sample accuracy: 0.951\n",
      "[8,   200] loss: 0.126, in sample accuracy: 0.960\n",
      "[8,   300] loss: 0.151, in sample accuracy: 0.957\n",
      "[8,   400] loss: 0.128, in sample accuracy: 0.963\n",
      "[8,   500] loss: 0.124, in sample accuracy: 0.966\n",
      "[8,   600] loss: 0.145, in sample accuracy: 0.955\n",
      "[8,   700] loss: 0.139, in sample accuracy: 0.956\n",
      "[8,   800] loss: 0.144, in sample accuracy: 0.959\n",
      "[8,   900] loss: 0.127, in sample accuracy: 0.963\n",
      "[8,  1000] loss: 0.139, in sample accuracy: 0.958\n",
      "[8,  1100] loss: 0.125, in sample accuracy: 0.963\n",
      "[8,  1200] loss: 0.123, in sample accuracy: 0.963\n",
      "[8,  1300] loss: 0.130, in sample accuracy: 0.962\n",
      "[8,  1400] loss: 0.128, in sample accuracy: 0.963\n",
      "[8,  1500] loss: 0.120, in sample accuracy: 0.962\n",
      "[8,  1600] loss: 0.112, in sample accuracy: 0.965\n",
      "epoch 9\n",
      "[9,   100] loss: 0.118, in sample accuracy: 0.968\n",
      "[9,   200] loss: 0.116, in sample accuracy: 0.968\n",
      "[9,   300] loss: 0.114, in sample accuracy: 0.964\n",
      "[9,   400] loss: 0.121, in sample accuracy: 0.963\n",
      "[9,   500] loss: 0.112, in sample accuracy: 0.972\n",
      "[9,   600] loss: 0.117, in sample accuracy: 0.964\n",
      "[9,   700] loss: 0.112, in sample accuracy: 0.969\n",
      "[9,   800] loss: 0.101, in sample accuracy: 0.972\n",
      "[9,   900] loss: 0.112, in sample accuracy: 0.971\n",
      "[9,  1000] loss: 0.102, in sample accuracy: 0.968\n",
      "[9,  1100] loss: 0.121, in sample accuracy: 0.963\n",
      "[9,  1200] loss: 0.112, in sample accuracy: 0.966\n",
      "[9,  1300] loss: 0.118, in sample accuracy: 0.962\n",
      "[9,  1400] loss: 0.107, in sample accuracy: 0.967\n",
      "[9,  1500] loss: 0.097, in sample accuracy: 0.971\n",
      "[9,  1600] loss: 0.120, in sample accuracy: 0.963\n",
      "\n",
      "Finished Training\n"
     ]
    }
   ],
   "source": [
    "# let's train the network\n",
    "def train(net):\n",
    "    for epoch in tqdm(range(10)):\n",
    "        print(\"epoch {}\".format(epoch))\n",
    "        running_loss = 0.0\n",
    "        correct = 0\n",
    "        total = 0\n",
    "\n",
    "        for i,data in enumerate(train_loader, 0):\n",
    "            # get the inputs; data is a list of [inputs, labels]\n",
    "            inputs, labels = data[0].to(device), data[1].to(device)\n",
    "\n",
    "            # zero the parameter gradients\n",
    "            optimizer.zero_grad()\n",
    "\n",
    "            # forward + backward + optimize\n",
    "            outputs = net(inputs.view(-1,3*100*100))\n",
    "            \n",
    "            # in sample accuracy calculation\n",
    "            _, predicted = torch.max(outputs, 1) \n",
    "            a = predicted == labels\n",
    "            correct += np.count_nonzero(a.cpu())\n",
    "            total += len(a)\n",
    "            \n",
    "            loss = criterion(outputs, labels)\n",
    "            loss.backward()\n",
    "            optimizer.step()\n",
    "\n",
    "            # print statistics\n",
    "            running_loss += loss.item()\n",
    "            \n",
    "            if i % 100 == 99:    # print every 100 mini-batches\n",
    "                print('[%d, %5d] loss: %.3f, in sample accuracy: %.3f' %(epoch, i + 1, running_loss / 100, correct/total))\n",
    "                running_loss = 0.0\n",
    "                correct = 0\n",
    "                total = 0\n",
    "                \n",
    "    print('Finished Training')\n",
    "    \n",
    "train(net)"
   ]
  },
  {
   "cell_type": "raw",
   "metadata": {},
   "source": [
    "# fnn_net is the first model\n",
    "# second one is different arch.\n",
    "# third one is the batch size is 32 instead of 64\n",
    "\n",
    "PATH = \"../models/fnn_net_3.pth\"\n",
    "torch.save(net.state_dict(),PATH)"
   ]
  },
  {
   "cell_type": "code",
   "execution_count": 24,
   "metadata": {},
   "outputs": [
    {
     "data": {
      "application/vnd.jupyter.widget-view+json": {
       "model_id": "0d70f336182244a5afbabb1197e78840",
       "version_major": 2,
       "version_minor": 0
      },
      "text/plain": [
       "HBox(children=(FloatProgress(value=0.0, max=709.0), HTML(value='')))"
      ]
     },
     "metadata": {},
     "output_type": "display_data"
    },
    {
     "name": "stdout",
     "output_type": "stream",
     "text": [
      "\n",
      "Accuracy of the network on the test images: 86 %\n"
     ]
    }
   ],
   "source": [
    "def test(net):\n",
    "    correct = 0\n",
    "    total = 0\n",
    "    with torch.no_grad():\n",
    "        for data in tqdm(test_loader):\n",
    "            images, labels = data[0].to(device), data[1].to(device)\n",
    "            outputs = net(images.view(-1,3*100*100))\n",
    "            _, predicted = torch.max(outputs.data, 1)\n",
    "            total += labels.size(0)\n",
    "            correct += (predicted == labels).sum().item()\n",
    "\n",
    "    print('Accuracy of the network on the test images: %d %%' % (\n",
    "        100 * correct / total))\n",
    "\n",
    "test(net)"
   ]
  },
  {
   "cell_type": "code",
   "execution_count": 25,
   "metadata": {},
   "outputs": [
    {
     "data": {
      "application/vnd.jupyter.widget-view+json": {
       "model_id": "ec11bc47003c4345b8698e023515cd42",
       "version_major": 2,
       "version_minor": 0
      },
      "text/plain": [
       "HBox(children=(FloatProgress(value=0.0, max=709.0), HTML(value='')))"
      ]
     },
     "metadata": {},
     "output_type": "display_data"
    },
    {
     "name": "stdout",
     "output_type": "stream",
     "text": [
      "\n",
      "Accuracy of Apple Braeburn : 94 %\n",
      "Accuracy of Apple Crimson Snow : 29 %\n",
      "Accuracy of Apple Golden 1 : 100 %\n",
      "Accuracy of Apple Golden 2 : 100 %\n",
      "Accuracy of Apple Golden 3 : 100 %\n",
      "Accuracy of Apple Granny Smith : 92 %\n",
      "Accuracy of Apple Pink Lady : 89 %\n",
      "Accuracy of Apple Red 1 : 48 %\n",
      "Accuracy of Apple Red 2 : 50 %\n",
      "Accuracy of Apple Red 3 : 25 %\n",
      "Accuracy of Apple Red Delicious : 100 %\n",
      "Accuracy of Apple Red Yellow 1 : 87 %\n",
      "Accuracy of Apple Red Yellow 2 : 99 %\n",
      "Accuracy of Apricot : 100 %\n",
      "Accuracy of Avocado : 100 %\n",
      "Accuracy of Avocado ripe : 100 %\n",
      "Accuracy of Banana : 39 %\n",
      "Accuracy of Banana Lady Finger : 80 %\n",
      "Accuracy of Beetroot : 90 %\n",
      "Accuracy of Blueberry : 87 %\n",
      "Accuracy of Cactus fruit : 79 %\n",
      "Accuracy of Cantaloupe 1 : 100 %\n",
      "Accuracy of Cantaloupe 2 : 99 %\n",
      "Accuracy of Carambula : 84 %\n",
      "Accuracy of Cauliflower : 100 %\n",
      "Accuracy of Cherry 1 : 100 %\n",
      "Accuracy of Cherry 2 : 100 %\n",
      "Accuracy of Cherry Rainier : 86 %\n",
      "Accuracy of Cherry Wax Black : 100 %\n",
      "Accuracy of Cherry Wax Red : 99 %\n",
      "Accuracy of Cherry Wax Yellow : 100 %\n",
      "Accuracy of Chestnut : 91 %\n",
      "Accuracy of Clementine : 100 %\n",
      "Accuracy of Cocos : 81 %\n",
      "Accuracy of  Corn : 33 %\n",
      "Accuracy of Corn Husk : 61 %\n",
      "Accuracy of Cucumber Ripe 2 : 62 %\n",
      "Accuracy of Dates : 96 %\n",
      "Accuracy of Eggplant : 71 %\n",
      "Accuracy of   Fig : 66 %\n",
      "Accuracy of Ginger Root : 78 %\n",
      "Accuracy of Granadilla : 100 %\n",
      "Accuracy of Grape Blue : 100 %\n",
      "Accuracy of Grape Pink : 100 %\n",
      "Accuracy of Grape White : 100 %\n",
      "Accuracy of Grape White 2 : 100 %\n",
      "Accuracy of Grape White 3 : 100 %\n",
      "Accuracy of Grape White 4 : 100 %\n",
      "Accuracy of Grapefruit Pink : 100 %\n",
      "Accuracy of Grapefruit White : 100 %\n",
      "Accuracy of Guava : 84 %\n",
      "Accuracy of Hazelnut : 100 %\n",
      "Accuracy of Huckleberry : 100 %\n",
      "Accuracy of  Kaki : 86 %\n",
      "Accuracy of  Kiwi : 100 %\n",
      "Accuracy of Kumquats : 92 %\n",
      "Accuracy of Lemon : 75 %\n",
      "Accuracy of Lemon Meyer : 100 %\n",
      "Accuracy of Limes : 100 %\n",
      "Accuracy of Lychee : 100 %\n",
      "Accuracy of Mandarine : 96 %\n",
      "Accuracy of Mango : 96 %\n",
      "Accuracy of Mango Red : 66 %\n",
      "Accuracy of Mangostan : 83 %\n",
      "Accuracy of Maracuja : 70 %\n",
      "Accuracy of Melon Piel de Sapo : 98 %\n",
      "Accuracy of Mulberry : 83 %\n",
      "Accuracy of Nectarine : 92 %\n",
      "Accuracy of Nectarine Flat : 46 %\n",
      "Accuracy of Nut Forest : 100 %\n",
      "Accuracy of Nut Pecan : 84 %\n",
      "Accuracy of Onion Red : 97 %\n",
      "Accuracy of Onion Red Peeled : 61 %\n",
      "Accuracy of Onion White : 100 %\n",
      "Accuracy of Papaya : 100 %\n",
      "Accuracy of Passion Fruit : 97 %\n",
      "Accuracy of Peach : 78 %\n",
      "Accuracy of Peach 2 : 100 %\n",
      "Accuracy of Peach Flat : 51 %\n",
      "Accuracy of  Pear : 71 %\n",
      "Accuracy of Pear 2 : 27 %\n",
      "Accuracy of Pear Abate : 82 %\n",
      "Accuracy of Pear Forelle : 90 %\n",
      "Accuracy of Pear Kaiser : 94 %\n",
      "Accuracy of Pear Monster : 96 %\n",
      "Accuracy of Pear Red : 71 %\n",
      "Accuracy of Pear Stone : 28 %\n",
      "Accuracy of Pear Williams : 81 %\n",
      "Accuracy of Pepino : 100 %\n",
      "Accuracy of Pepper Green : 96 %\n",
      "Accuracy of Pepper Orange : 96 %\n",
      "Accuracy of Pepper Red : 96 %\n",
      "Accuracy of Pepper Yellow : 100 %\n",
      "Accuracy of Banana Red : 83 %\n",
      "Accuracy of Cucumber Ripe : 56 %\n",
      "Accuracy of Kohlrabi : 88 %\n",
      "Accuracy of Orange : 100 %\n",
      "Accuracy of Physalis : 100 %\n",
      "Accuracy of Physalis with Husk : 100 %\n",
      "Accuracy of Pineapple : 96 %\n",
      "Accuracy of Pineapple Mini : 86 %\n",
      "Accuracy of Pitahaya Red : 72 %\n",
      "Accuracy of  Plum : 71 %\n",
      "Accuracy of Plum 2 : 100 %\n",
      "Accuracy of Plum 3 : 87 %\n",
      "Accuracy of Pomegranate :  2 %\n",
      "Accuracy of Pomelo Sweetie : 100 %\n",
      "Accuracy of Potato Red : 62 %\n",
      "Accuracy of Potato Red Washed : 43 %\n",
      "Accuracy of Potato Sweet : 66 %\n",
      "Accuracy of Potato White : 81 %\n",
      "Accuracy of Quince : 100 %\n",
      "Accuracy of Rambutan : 93 %\n",
      "Accuracy of Raspberry : 100 %\n",
      "Accuracy of Redcurrant : 100 %\n",
      "Accuracy of Salak : 100 %\n",
      "Accuracy of Strawberry : 90 %\n",
      "Accuracy of Strawberry Wedge : 55 %\n",
      "Accuracy of Tamarillo : 100 %\n",
      "Accuracy of Tangelo : 100 %\n",
      "Accuracy of Tomato 1 : 100 %\n",
      "Accuracy of Tomato 2 : 100 %\n",
      "Accuracy of Tomato 3 : 99 %\n",
      "Accuracy of Tomato 4 : 100 %\n",
      "Accuracy of Tomato Cherry Red : 100 %\n",
      "Accuracy of Tomato Heart : 90 %\n",
      "Accuracy of Tomato Maroon : 100 %\n",
      "Accuracy of Tomato not Ripened : 100 %\n",
      "Accuracy of Tomato Yellow : 100 %\n",
      "Accuracy of Walnut : 100 %\n",
      "Accuracy of Watermelon : 52 %\n"
     ]
    }
   ],
   "source": [
    "# label wise accuracy\n",
    "class_correct = list(0. for i in range(131))\n",
    "class_total = list(0. for i in range(131))\n",
    "with torch.no_grad():\n",
    "    for data in tqdm(test_loader):\n",
    "        images, labels = data[0].to(device), data[1].to(device)\n",
    "        outputs = net(images.view(-1,3*100*100))\n",
    "        _, predicted = torch.max(outputs, 1)\n",
    "        c = (predicted == labels).squeeze()\n",
    "        \n",
    "        for i in range(len(labels)):\n",
    "            label = labels[i]\n",
    "            class_correct[label] += c[i].item()\n",
    "            class_total[label] += 1\n",
    "\n",
    "for i in range(131):\n",
    "    print('Accuracy of %5s : %2d %%' % (\n",
    "    class_names[i], 100 * class_correct[i] / class_total[i]))"
   ]
  },
  {
   "cell_type": "markdown",
   "metadata": {},
   "source": [
    "* In sample accuracy can be added to train function\n",
    "\n",
    "* Plots will be done (loss + in_sample_accuracy etc) for model analysis\n",
    "\n",
    "* This network will be extended (maybe adding new layer or changing other parameters)\n",
    "    * This matter tried and saved as a second model, but results didn't change too much and training set took more time, so we can exclude this option. As a last trial, batch size is changed from 64 to 32 and in this case network worked better and total accuracy increased to %86\n",
    "\n",
    "* Other architecture (especially CNN and its variants) will be tested"
   ]
  },
  {
   "cell_type": "markdown",
   "metadata": {},
   "source": [
    "## Model Analysis Part"
   ]
  },
  {
   "cell_type": "code",
   "execution_count": 33,
   "metadata": {},
   "outputs": [],
   "source": [
    "def fwd_pass(X,y , train = False):\n",
    "    \n",
    "    if train:\n",
    "        net.zero_grad()\n",
    "    outputs = net(X.view(-1,3*100*100))\n",
    "            \n",
    "    _, predicted = torch.max(outputs, 1) \n",
    "    a = predicted == labels\n",
    "    correct += np.count_nonzero(a.cpu())\n",
    "    total += len(a)\n",
    "    acc = correct / total\n",
    "    loss = criterion(outputs, y)\n",
    "    \n",
    "    if train:\n",
    "        loss.backward()\n",
    "        optimizer.step()\n",
    "\n",
    "    return acc, loss "
   ]
  },
  {
   "cell_type": "code",
   "execution_count": 35,
   "metadata": {},
   "outputs": [
    {
     "data": {
      "application/vnd.jupyter.widget-view+json": {
       "model_id": "4e67faccc45b4d63bc073149650f75f7",
       "version_major": 2,
       "version_minor": 0
      },
      "text/plain": [
       "HBox(children=(FloatProgress(value=0.0, max=10.0), HTML(value='')))"
      ]
     },
     "metadata": {},
     "output_type": "display_data"
    },
    {
     "name": "stdout",
     "output_type": "stream",
     "text": [
      "epoch 0\n",
      "\n"
     ]
    },
    {
     "ename": "UnboundLocalError",
     "evalue": "local variable 'correct' referenced before assignment",
     "output_type": "error",
     "traceback": [
      "\u001b[0;31m---------------------------------------------------------------------------\u001b[0m",
      "\u001b[0;31mUnboundLocalError\u001b[0m                         Traceback (most recent call last)",
      "\u001b[0;32m<ipython-input-35-98ae2452c729>\u001b[0m in \u001b[0;36m<module>\u001b[0;34m\u001b[0m\n\u001b[1;32m     33\u001b[0m     \u001b[0mprint\u001b[0m\u001b[0;34m(\u001b[0m\u001b[0;34m'Finished Training'\u001b[0m\u001b[0;34m)\u001b[0m\u001b[0;34m\u001b[0m\u001b[0;34m\u001b[0m\u001b[0m\n\u001b[1;32m     34\u001b[0m \u001b[0;34m\u001b[0m\u001b[0m\n\u001b[0;32m---> 35\u001b[0;31m \u001b[0mtrain\u001b[0m\u001b[0;34m(\u001b[0m\u001b[0mnet\u001b[0m\u001b[0;34m)\u001b[0m\u001b[0;34m\u001b[0m\u001b[0;34m\u001b[0m\u001b[0m\n\u001b[0m",
      "\u001b[0;32m<ipython-input-35-98ae2452c729>\u001b[0m in \u001b[0;36mtrain\u001b[0;34m(net)\u001b[0m\n\u001b[1;32m     18\u001b[0m             \u001b[0minputs\u001b[0m\u001b[0;34m,\u001b[0m \u001b[0mlabels\u001b[0m \u001b[0;34m=\u001b[0m \u001b[0mdata\u001b[0m\u001b[0;34m[\u001b[0m\u001b[0;36m0\u001b[0m\u001b[0;34m]\u001b[0m\u001b[0;34m.\u001b[0m\u001b[0mto\u001b[0m\u001b[0;34m(\u001b[0m\u001b[0mdevice\u001b[0m\u001b[0;34m)\u001b[0m\u001b[0;34m,\u001b[0m \u001b[0mdata\u001b[0m\u001b[0;34m[\u001b[0m\u001b[0;36m1\u001b[0m\u001b[0;34m]\u001b[0m\u001b[0;34m.\u001b[0m\u001b[0mto\u001b[0m\u001b[0;34m(\u001b[0m\u001b[0mdevice\u001b[0m\u001b[0;34m)\u001b[0m\u001b[0;34m\u001b[0m\u001b[0;34m\u001b[0m\u001b[0m\n\u001b[1;32m     19\u001b[0m \u001b[0;34m\u001b[0m\u001b[0m\n\u001b[0;32m---> 20\u001b[0;31m             \u001b[0macc\u001b[0m \u001b[0;34m,\u001b[0m\u001b[0mloss\u001b[0m \u001b[0;34m=\u001b[0m \u001b[0mfwd_pass\u001b[0m\u001b[0;34m(\u001b[0m\u001b[0minputs\u001b[0m\u001b[0;34m,\u001b[0m \u001b[0mlabels\u001b[0m\u001b[0;34m,\u001b[0m \u001b[0mtrain\u001b[0m \u001b[0;34m=\u001b[0m \u001b[0;32mTrue\u001b[0m\u001b[0;34m)\u001b[0m\u001b[0;34m\u001b[0m\u001b[0;34m\u001b[0m\u001b[0m\n\u001b[0m\u001b[1;32m     21\u001b[0m \u001b[0;34m\u001b[0m\u001b[0m\n\u001b[1;32m     22\u001b[0m             \u001b[0;32mif\u001b[0m \u001b[0mi\u001b[0m \u001b[0;34m%\u001b[0m \u001b[0;36m100\u001b[0m \u001b[0;34m==\u001b[0m \u001b[0;36m99\u001b[0m\u001b[0;34m:\u001b[0m    \u001b[0;31m# print every 100 mini-batches\u001b[0m\u001b[0;34m\u001b[0m\u001b[0;34m\u001b[0m\u001b[0m\n",
      "\u001b[0;32m<ipython-input-33-04485b0c09cf>\u001b[0m in \u001b[0;36mfwd_pass\u001b[0;34m(X, y, train)\u001b[0m\n\u001b[1;32m      7\u001b[0m     \u001b[0m_\u001b[0m\u001b[0;34m,\u001b[0m \u001b[0mpredicted\u001b[0m \u001b[0;34m=\u001b[0m \u001b[0mtorch\u001b[0m\u001b[0;34m.\u001b[0m\u001b[0mmax\u001b[0m\u001b[0;34m(\u001b[0m\u001b[0moutputs\u001b[0m\u001b[0;34m,\u001b[0m \u001b[0;36m1\u001b[0m\u001b[0;34m)\u001b[0m\u001b[0;34m\u001b[0m\u001b[0;34m\u001b[0m\u001b[0m\n\u001b[1;32m      8\u001b[0m     \u001b[0ma\u001b[0m \u001b[0;34m=\u001b[0m \u001b[0mpredicted\u001b[0m \u001b[0;34m==\u001b[0m \u001b[0mlabels\u001b[0m\u001b[0;34m\u001b[0m\u001b[0;34m\u001b[0m\u001b[0m\n\u001b[0;32m----> 9\u001b[0;31m     \u001b[0mcorrect\u001b[0m \u001b[0;34m+=\u001b[0m \u001b[0mnp\u001b[0m\u001b[0;34m.\u001b[0m\u001b[0mcount_nonzero\u001b[0m\u001b[0;34m(\u001b[0m\u001b[0ma\u001b[0m\u001b[0;34m.\u001b[0m\u001b[0mcpu\u001b[0m\u001b[0;34m(\u001b[0m\u001b[0;34m)\u001b[0m\u001b[0;34m)\u001b[0m\u001b[0;34m\u001b[0m\u001b[0;34m\u001b[0m\u001b[0m\n\u001b[0m\u001b[1;32m     10\u001b[0m     \u001b[0mtotal\u001b[0m \u001b[0;34m+=\u001b[0m \u001b[0mlen\u001b[0m\u001b[0;34m(\u001b[0m\u001b[0ma\u001b[0m\u001b[0;34m)\u001b[0m\u001b[0;34m\u001b[0m\u001b[0;34m\u001b[0m\u001b[0m\n\u001b[1;32m     11\u001b[0m     \u001b[0macc\u001b[0m \u001b[0;34m=\u001b[0m \u001b[0mcorrect\u001b[0m \u001b[0;34m/\u001b[0m \u001b[0mtotal\u001b[0m\u001b[0;34m\u001b[0m\u001b[0;34m\u001b[0m\u001b[0m\n",
      "\u001b[0;31mUnboundLocalError\u001b[0m: local variable 'correct' referenced before assignment"
     ]
    }
   ],
   "source": [
    "import time\n",
    "\n",
    "MODEL_NAME = f\"model-{int(time.time())}\"  # gives a dynamic model name, to just help with things getting messy over time. \n",
    "net = Net().to(device)\n",
    "criterion = nn.CrossEntropyLoss()\n",
    "optimizer = optim.SGD(net.parameters(), lr=0.001, momentum=0.7)\n",
    "\n",
    "# let's train the network\n",
    "def train(net):\n",
    "    for epoch in tqdm(range(10)):\n",
    "        print(\"epoch {}\".format(epoch))\n",
    "        running_loss = 0.0\n",
    "        correct = 0\n",
    "        total = 0\n",
    "\n",
    "        for i,data in enumerate(train_loader, 0):\n",
    "            # get the inputs; data is a list of [inputs, labels]\n",
    "            inputs, labels = data[0].to(device), data[1].to(device)\n",
    "\n",
    "            acc ,loss = fwd_pass(inputs, labels, train = True)\n",
    "            \n",
    "            if i % 100 == 99:    # print every 100 mini-batches\n",
    "                print('[%d, %5d] loss: %.3f, in sample accuracy: %.3f' %(epoch, i + 1, loss / 100, acc))\n",
    "        \n",
    "        for i,data in enumerate(valid_loader,0):\n",
    "            \n",
    "            inputs, labels = data[0].to(device), data[1].to(device)\n",
    "            val_acc ,val_loss = fwd_pass(inputs, labels)\n",
    "            \n",
    "            if i % 100 == 99:    # print every 100 mini-batches\n",
    "                print('[%d, %5d] validation loss: %.3f, validation accuracy: %.3f' %(epoch, i + 1, val_loss / 100, val_acc))\n",
    "                \n",
    "    print('Finished Training')\n",
    "    \n",
    "train(net)"
   ]
  },
  {
   "cell_type": "code",
   "execution_count": null,
   "metadata": {},
   "outputs": [],
   "source": []
  }
 ],
 "metadata": {
  "kernelspec": {
   "display_name": "Python 3",
   "language": "python",
   "name": "python3"
  },
  "language_info": {
   "codemirror_mode": {
    "name": "ipython",
    "version": 3
   },
   "file_extension": ".py",
   "mimetype": "text/x-python",
   "name": "python",
   "nbconvert_exporter": "python",
   "pygments_lexer": "ipython3",
   "version": "3.8.3"
  }
 },
 "nbformat": 4,
 "nbformat_minor": 4
}
