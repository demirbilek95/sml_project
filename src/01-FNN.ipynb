{
 "cells": [
  {
   "cell_type": "markdown",
   "metadata": {},
   "source": [
    "## Data Preprocessing"
   ]
  },
  {
   "cell_type": "code",
   "execution_count": 1,
   "metadata": {},
   "outputs": [],
   "source": [
    "import os\n",
    "from glob import glob\n",
    "import numpy as np\n",
    "from PIL import Image\n",
    "from tqdm.notebook import tqdm\n",
    "import matplotlib.pyplot as plt\n",
    "\n",
    "import torch\n",
    "import torch.nn as nn\n",
    "import torch.nn.functional as F\n",
    "from torch.utils.data import Dataset\n",
    "import torch.optim as optim\n",
    "\n",
    "from torchvision import transforms\n",
    "from torchvision.datasets import ImageFolder\n",
    "from torchvision.utils import make_grid\n"
   ]
  },
  {
   "cell_type": "code",
   "execution_count": 2,
   "metadata": {},
   "outputs": [
    {
     "name": "stdout",
     "output_type": "stream",
     "text": [
      "Running on cuda:0\n"
     ]
    }
   ],
   "source": [
    "# check if machine has gpu\n",
    "device = torch.device(\"cuda:0\" if torch.cuda.is_available() else \"cpu\")\n",
    "print(\"Running on\",device)"
   ]
  },
  {
   "cell_type": "code",
   "execution_count": 3,
   "metadata": {},
   "outputs": [
    {
     "name": "stdout",
     "output_type": "stream",
     "text": [
      "Number of images in Training file: 67692\n"
     ]
    }
   ],
   "source": [
    "# data path that training set is located\n",
    "path = \"../data/fruits/fruits-360/\"\n",
    "# this joins the path + folder and each files e.g. '../data/fruits/fruits-360/Training/Apple Braeburn/115_100.jpg'\n",
    "files_training = glob(os.path.join(path,'Training', '*/*.jpg'))\n",
    "num_images = len(files_training)\n",
    "print('Number of images in Training file:', num_images)"
   ]
  },
  {
   "cell_type": "code",
   "execution_count": 4,
   "metadata": {
    "scrolled": true
   },
   "outputs": [
    {
     "name": "stdout",
     "output_type": "stream",
     "text": [
      "class             Count:\n",
      "------------------------\n",
      "Apple Braeburn       492\n",
      "Apple Crimson Snow   444\n",
      "Apple Golden 1       480\n",
      "Apple Golden 2       492\n",
      "Apple Golden 3       481\n",
      "Apple Granny Smith   492\n",
      "Apple Pink Lady      456\n",
      "Apple Red 1          492\n",
      "Apple Red 2          492\n",
      "Apple Red 3          429\n",
      "Apple Red Delicious  490\n",
      "Apple Red Yellow 1   492\n",
      "Apple Red Yellow 2   672\n",
      "Apricot              492\n",
      "Avocado              427\n",
      "Avocado ripe         491\n",
      "Banana               490\n",
      "Banana Lady Finger   450\n",
      "Beetroot             450\n",
      "Blueberry            462\n",
      "Cactus fruit         490\n",
      "Cantaloupe 1         492\n",
      "Cantaloupe 2         492\n",
      "Carambula            490\n",
      "Cauliflower          702\n",
      "Cherry 1             492\n",
      "Cherry 2             738\n",
      "Cherry Rainier       738\n",
      "Cherry Wax Black     492\n",
      "Cherry Wax Red       492\n",
      "Cherry Wax Yellow    492\n",
      "Chestnut             450\n",
      "Clementine           490\n",
      "Cocos                490\n",
      "Corn                 450\n",
      "Corn Husk            462\n",
      "Cucumber Ripe 2      468\n",
      "Dates                490\n",
      "Eggplant             468\n",
      "Fig                  702\n",
      "Ginger Root          297\n",
      "Granadilla           490\n",
      "Grape Blue           984\n",
      "Grape Pink           492\n",
      "Grape White          490\n",
      "Grape White 2        490\n",
      "Grape White 3        492\n",
      "Grape White 4        471\n",
      "Grapefruit Pink      490\n",
      "Grapefruit White     492\n",
      "Guava                490\n",
      "Hazelnut             464\n",
      "Huckleberry          490\n",
      "Kaki                 490\n",
      "Kiwi                 466\n",
      "Kumquats             490\n",
      "Lemon                492\n",
      "Lemon Meyer          490\n",
      "Limes                490\n",
      "Lychee               490\n",
      "Mandarine            490\n",
      "Mango                490\n",
      "Mango Red            426\n",
      "Mangostan            300\n",
      "Maracuja             490\n",
      "Melon Piel de Sapo   738\n",
      "Mulberry             492\n",
      "Nectarine            492\n",
      "Nectarine Flat       480\n",
      "Nut Forest           654\n",
      "Nut Pecan            534\n",
      "Onion Red            450\n",
      "Onion Red Peeled     445\n",
      "Onion White          438\n",
      "Papaya               492\n",
      "Passion Fruit        490\n",
      "Peach                492\n",
      "Peach 2              738\n",
      "Peach Flat           492\n",
      "Pear                 492\n",
      "Pear 2               696\n",
      "Pear Abate           490\n",
      "Pear Forelle         702\n",
      "Pear Kaiser          300\n",
      "Pear Monster         490\n",
      "Pear Red             666\n",
      "Pear Stone           711\n",
      "Pear Williams        490\n",
      "Pepino               490\n",
      "Pepper Green         444\n",
      "Pepper Orange        702\n",
      "Pepper Red           666\n",
      "Pepper Yellow        666\n",
      "Banana Red           490\n",
      "Cucumber Ripe        392\n",
      "Kohlrabi             471\n",
      "Orange               479\n",
      "Physalis             492\n",
      "Physalis with Husk   492\n",
      "Pineapple            490\n",
      "Pineapple Mini       493\n",
      "Pitahaya Red         490\n",
      "Plum                 447\n",
      "Plum 2               420\n",
      "Plum 3               900\n",
      "Pomegranate          492\n",
      "Pomelo Sweetie       450\n",
      "Potato Red           450\n",
      "Potato Red Washed    453\n",
      "Potato Sweet         450\n",
      "Potato White         450\n",
      "Quince               490\n",
      "Rambutan             492\n",
      "Raspberry            490\n",
      "Redcurrant           492\n",
      "Salak                490\n",
      "Strawberry           492\n",
      "Strawberry Wedge     738\n",
      "Tamarillo            490\n",
      "Tangelo              490\n",
      "Tomato 1             738\n",
      "Tomato 2             672\n",
      "Tomato 3             738\n",
      "Tomato 4             479\n",
      "Tomato Cherry Red    492\n",
      "Tomato Heart         684\n",
      "Tomato Maroon        367\n",
      "Tomato not Ripened   474\n",
      "Tomato Yellow        459\n",
      "Walnut               735\n",
      "Watermelon           475\n",
      "\n",
      "Minumum images per category: 297 Category: Ginger Root\n",
      "Average number of Images per Category: 517\n",
      "Total number of classes: 131\n"
     ]
    }
   ],
   "source": [
    "# just to see how many images we have for each label, minimum one and average one, with nice printing style\n",
    "\n",
    "min_images = 1000\n",
    "im_cnt = []\n",
    "class_names = []\n",
    "print('{:18s}'.format('class'), end='')\n",
    "print('Count:')\n",
    "print('-' * 24)\n",
    "for folder in os.listdir(os.path.join(path, 'Training')):\n",
    "    folder_num = len(os.listdir(os.path.join(path,'Training',folder)))\n",
    "    im_cnt.append(folder_num)\n",
    "    class_names.append(folder)\n",
    "    print('{:20s}'.format(folder), end=' ')\n",
    "    print(folder_num)\n",
    "        \n",
    "num_classes = len(class_names)\n",
    "print(\"\\nMinumum images per category:\", np.min(im_cnt), 'Category:', class_names[im_cnt.index(np.min(im_cnt))])    \n",
    "print('Average number of Images per Category: {:.0f}'.format(np.array(im_cnt).mean()))\n",
    "print('Total number of classes: {}'.format(num_classes))"
   ]
  },
  {
   "cell_type": "code",
   "execution_count": 5,
   "metadata": {},
   "outputs": [],
   "source": [
    "# Just to guess pop_mean and pop_std\n",
    "\n",
    "tensor_transform = transforms.Compose([transforms.ToTensor()])\n",
    "\n",
    "training_data = ImageFolder(os.path.join(path, 'Training'), tensor_transform)\n",
    "\n",
    "data_loader = torch.utils.data.DataLoader(training_data, batch_size=512, shuffle=True)"
   ]
  },
  {
   "cell_type": "code",
   "execution_count": 6,
   "metadata": {
    "scrolled": true
   },
   "outputs": [
    {
     "name": "stdout",
     "output_type": "stream",
     "text": [
      "CPU times: user 4 µs, sys: 1 µs, total: 5 µs\n",
      "Wall time: 8.34 µs\n",
      "[0.6840367, 0.5786325, 0.5037564]\n",
      "[0.30334985, 0.3599262, 0.3913685]\n"
     ]
    }
   ],
   "source": [
    "%time\n",
    "# this part takes a bit long\n",
    "pop_mean = [0.6840367,0.5786325,0.5037564]  # normally it was --> []\n",
    "pop_std = [0.30334985,0.3599262,0.3913685]\n",
    "\n",
    "# for i, data in tqdm(enumerate(data_loader, 0)):\n",
    "#     numpy_image = data[0].numpy()\n",
    "    \n",
    "#     batch_mean = np.mean(numpy_image, axis=(0,2,3))\n",
    "#     batch_std = np.std(numpy_image, axis=(0,2,3))\n",
    "    \n",
    "#     pop_mean.append(batch_mean)\n",
    "#     pop_std.append(batch_std)\n",
    "\n",
    "# pop_mean = np.array(pop_mean).mean(axis=0)\n",
    "# pop_std = np.array(pop_std).mean(axis=0)\n",
    "\n",
    "# that is why I am inserting last values \n",
    "\n",
    "print(pop_mean)\n",
    "print(pop_std)"
   ]
  },
  {
   "cell_type": "code",
   "execution_count": 7,
   "metadata": {},
   "outputs": [],
   "source": [
    "np.random.seed(123)\n",
    "shuffle = np.random.permutation(num_images)"
   ]
  },
  {
   "cell_type": "code",
   "execution_count": 8,
   "metadata": {},
   "outputs": [
    {
     "name": "stdout",
     "output_type": "stream",
     "text": [
      "Total number of images: 67692\n",
      "Number images in validation set: 13538\n",
      "Number images in train set: 54154\n"
     ]
    }
   ],
   "source": [
    "# split validation images\n",
    "\n",
    "split_val = int(num_images * 0.2)\n",
    "print('Total number of images:', num_images)\n",
    "print('Number images in validation set:',len(shuffle[:split_val]))\n",
    "print('Number images in train set:',len(shuffle[split_val:]))"
   ]
  },
  {
   "cell_type": "code",
   "execution_count": 9,
   "metadata": {},
   "outputs": [],
   "source": [
    "class FruitTrainDataset(Dataset):\n",
    "    def __init__(self, files, shuffle, split_val, class_names, transform=transforms.ToTensor()):\n",
    "        self.shuffle = shuffle\n",
    "        self.class_names = class_names\n",
    "        self.split_val = split_val\n",
    "        self.data = np.array([files[i] for i in shuffle[split_val:]])\n",
    "        self.transform=transform\n",
    "        \n",
    "    def __len__(self):\n",
    "        return len(self.data)\n",
    "    \n",
    "    def __getitem__(self, idx):\n",
    "        img = Image.open(self.data[idx])\n",
    "        name = self.data[idx].split('/')[-2]\n",
    "        y = self.class_names.index(name)\n",
    "        img = self.transform(img)\n",
    "            \n",
    "        return img, y\n",
    "\n",
    "class FruitValidDataset(Dataset):\n",
    "    def __init__(self, files, shuffle, split_val, class_names, transform=transforms.ToTensor()):\n",
    "        self.shuffle = shuffle\n",
    "        self.class_names = class_names\n",
    "        self.split_val = split_val\n",
    "        self.data = np.array([files[i] for i in shuffle[:split_val]])\n",
    "        self.transform=transform\n",
    "        \n",
    "    def __len__(self):\n",
    "        return len(self.data)\n",
    "    \n",
    "    def __getitem__(self, idx):\n",
    "        img = Image.open(self.data[idx])\n",
    "        name = self.data[idx].split('/')[-2]\n",
    "        y = self.class_names.index(name)\n",
    "        img = self.transform(img)\n",
    "            \n",
    "        return img, y\n",
    "    \n",
    "class FruitTestDataset(Dataset):\n",
    "    def __init__(self, path, class_names, transform=transforms.ToTensor()):\n",
    "        self.class_names = class_names\n",
    "        self.data = np.array(glob(os.path.join(path, '*/*.jpg')))\n",
    "        self.transform=transform\n",
    "        \n",
    "    def __len__(self):\n",
    "        return len(self.data)\n",
    "    \n",
    "    def __getitem__(self, idx):\n",
    "        img = Image.open(self.data[idx])\n",
    "        name = self.data[idx].split('/')[-2]\n",
    "        y = self.class_names.index(name)\n",
    "        img = self.transform(img)\n",
    "            \n",
    "        return img, y"
   ]
  },
  {
   "cell_type": "code",
   "execution_count": 10,
   "metadata": {},
   "outputs": [],
   "source": [
    "data_transforms = {\n",
    "    'train': transforms.Compose([\n",
    "        transforms.RandomHorizontalFlip(),\n",
    "        transforms.RandomVerticalFlip(),\n",
    "        transforms.ToTensor(),\n",
    "        transforms.Normalize(pop_mean, pop_std) # These were the mean and standard deviations that we calculated earlier.\n",
    "    ]),\n",
    "    'Test': transforms.Compose([\n",
    "        transforms.ToTensor(),\n",
    "        transforms.Normalize(pop_mean, pop_std) # These were the mean and standard deviations that we calculated earlier.\n",
    "    ]),\n",
    "    'valid': transforms.Compose([\n",
    "        transforms.ToTensor(),\n",
    "        transforms.Normalize(pop_mean, pop_std) # These were the mean and standard deviations that we calculated earlier.\n",
    "    ])\n",
    "}\n",
    "\n",
    "train_dataset = FruitTrainDataset(files_training, shuffle, split_val, class_names, data_transforms['train'])\n",
    "valid_dataset = FruitValidDataset(files_training, shuffle, split_val, class_names, data_transforms['valid'])\n",
    "test_dataset = FruitTestDataset(\"../data/fruits/fruits-360/Test\", class_names, transform=data_transforms['Test'])\n",
    "\n",
    "train_loader = torch.utils.data.DataLoader(train_dataset, batch_size=64, shuffle=True)\n",
    "valid_loader = torch.utils.data.DataLoader(valid_dataset, batch_size=64, shuffle=True)\n",
    "test_loader = torch.utils.data.DataLoader(test_dataset, batch_size=64, shuffle=True)"
   ]
  },
  {
   "cell_type": "code",
   "execution_count": 11,
   "metadata": {},
   "outputs": [],
   "source": [
    "dataloaders = {'train': train_loader,\n",
    "              'valid': valid_loader,\n",
    "              'Test': test_loader}\n",
    "dataset_sizes = {\n",
    "    'train': len(train_dataset),\n",
    "    'valid': len(valid_dataset),\n",
    "    'Test': len(test_dataset)\n",
    "}"
   ]
  },
  {
   "cell_type": "code",
   "execution_count": 12,
   "metadata": {},
   "outputs": [],
   "source": [
    "def imshow(inp, title=None):\n",
    "    \"\"\"Imshow for Tensor.\"\"\"\n",
    "    inp = inp.numpy().transpose((1, 2, 0))\n",
    "    inp = pop_std * inp + pop_mean\n",
    "    inp = np.clip(inp, 0, 1)\n",
    "    plt.imshow(inp)\n",
    "    if title is not None:\n",
    "        plt.title(title)\n",
    "    plt.pause(0.001)"
   ]
  },
  {
   "cell_type": "code",
   "execution_count": 13,
   "metadata": {},
   "outputs": [
    {
     "data": {
      "image/png": "[encoded data removed]",
      "text/plain": [
       "<Figure size 432x288 with 1 Axes>"
      ]
     },
     "metadata": {
      "needs_background": "light"
     },
     "output_type": "display_data"
    },
    {
     "name": "stdout",
     "output_type": "stream",
     "text": [
      "['Pepper Yellow', 'Walnut', 'Chestnut', 'Cucumber Ripe', 'Apricot', 'Pear Red', 'Cherry Wax Red', 'Redcurrant', 'Cocos', 'Papaya', 'Plum 2', 'Beetroot', 'Quince', 'Cherry Wax Red', 'Maracuja', 'Cactus fruit', 'Tomato Maroon', 'Beetroot', 'Guava', 'Plum 3', 'Pear Stone', 'Fig', 'Cherry 1', 'Passion Fruit', 'Beetroot', 'Apple Red 2', 'Pear 2', 'Mango', 'Passion Fruit', 'Dates', 'Dates', 'Chestnut', 'Banana Red', 'Chestnut', 'Apple Red Delicious', 'Pineapple', 'Mango Red', 'Grape Blue', 'Kaki', 'Tomato 3', 'Beetroot', 'Tomato Yellow', 'Grape White 3', 'Apple Red Delicious', 'Banana', 'Plum', 'Hazelnut', 'Cantaloupe 2', 'Corn Husk', 'Apple Pink Lady', 'Potato Red Washed', 'Strawberry', 'Guava', 'Cherry 2', 'Cherry 2', 'Grapefruit Pink', 'Tomato not Ripened', 'Pineapple Mini', 'Pear Red', 'Pear', 'Pepino', 'Apple Crimson Snow', 'Pear Stone', 'Mulberry']\n"
     ]
    }
   ],
   "source": [
    "inputs, classes = next(iter(train_loader))\n",
    "out = make_grid(inputs)\n",
    "\n",
    "cats = ['' for x in range(len(classes))]\n",
    "for i in range(len(classes)):\n",
    "    cats[i] = class_names[classes[i].item()]\n",
    "    \n",
    "imshow(out)\n",
    "print(cats)"
   ]
  },
  {
   "cell_type": "code",
   "execution_count": 14,
   "metadata": {},
   "outputs": [
    {
     "name": "stdout",
     "output_type": "stream",
     "text": [
      "torch.Size([64, 3, 100, 100]) torch.Size([64, 3, 100, 100])\n"
     ]
    }
   ],
   "source": [
    "# just to check if shape of train and test sets match\n",
    "for i,j in zip(train_loader,test_loader):\n",
    "    print(i[0].shape,j[0].shape)\n",
    "    break"
   ]
  },
  {
   "cell_type": "markdown",
   "metadata": {},
   "source": [
    "## Network"
   ]
  },
  {
   "cell_type": "code",
   "execution_count": 15,
   "metadata": {},
   "outputs": [
    {
     "name": "stdout",
     "output_type": "stream",
     "text": [
      "Net(\n",
      "  (fc1): Linear(in_features=30000, out_features=64, bias=True)\n",
      "  (fc2): Linear(in_features=64, out_features=64, bias=True)\n",
      "  (fc3): Linear(in_features=64, out_features=64, bias=True)\n",
      "  (fc4): Linear(in_features=64, out_features=131, bias=True)\n",
      ")\n"
     ]
    }
   ],
   "source": [
    "# just to start from the basic NN and to observe how does it perform on data\n",
    "# with horizontal and vertical flip we have 3x100x100\n",
    "# batch size is 64\n",
    "\n",
    "class Net(nn.Module):\n",
    "    def __init__(self):\n",
    "        super().__init__() # initialize the parent class methods\n",
    "        self.fc1 = nn.Linear(3*100*100, 64)\n",
    "        self.fc2 = nn.Linear(64, 64)\n",
    "        self.fc3 = nn.Linear(64, 64)\n",
    "        self.fc4 = nn.Linear(64, 131)\n",
    "        \n",
    "    def forward(self,x):\n",
    "        x = F.relu(self.fc1(x))\n",
    "        x = F.relu(self.fc2(x))\n",
    "        x = F.relu(self.fc3(x))\n",
    "        x = self.fc4(x)\n",
    "        \n",
    "        return F.log_softmax(x,dim=1)\n",
    "    \n",
    "net = Net()\n",
    "print(net)"
   ]
  },
  {
   "cell_type": "code",
   "execution_count": 16,
   "metadata": {},
   "outputs": [],
   "source": [
    "# move network to GPU\n",
    "net = Net().to(device)"
   ]
  },
  {
   "cell_type": "code",
   "execution_count": 17,
   "metadata": {},
   "outputs": [],
   "source": [
    "criterion = nn.CrossEntropyLoss()\n",
    "optimizer = optim.SGD(net.parameters(), lr=0.001, momentum=0.7)"
   ]
  },
  {
   "cell_type": "code",
   "execution_count": 24,
   "metadata": {
    "scrolled": true
   },
   "outputs": [
    {
     "data": {
      "application/vnd.jupyter.widget-view+json": {
       "model_id": "bc548dcff50145389f0e0fa4609b0b71",
       "version_major": 2,
       "version_minor": 0
      },
      "text/plain": [
       "HBox(children=(FloatProgress(value=0.0, max=10.0), HTML(value='')))"
      ]
     },
     "metadata": {},
     "output_type": "display_data"
    },
    {
     "name": "stdout",
     "output_type": "stream",
     "text": [
      "epoch 0\n",
      "[1,   100] loss: 4.763\n",
      "[1,   200] loss: 4.689\n",
      "[1,   300] loss: 4.567\n",
      "[1,   400] loss: 4.439\n",
      "[1,   500] loss: 4.242\n",
      "[1,   600] loss: 3.996\n",
      "[1,   700] loss: 3.676\n",
      "[1,   800] loss: 3.352\n",
      "epoch 1\n",
      "[2,   100] loss: 2.861\n",
      "[2,   200] loss: 2.611\n",
      "[2,   300] loss: 2.379\n",
      "[2,   400] loss: 2.185\n",
      "[2,   500] loss: 1.996\n",
      "[2,   600] loss: 1.883\n",
      "[2,   700] loss: 1.744\n",
      "[2,   800] loss: 1.619\n",
      "epoch 2\n",
      "[3,   100] loss: 1.455\n",
      "[3,   200] loss: 1.359\n",
      "[3,   300] loss: 1.255\n",
      "[3,   400] loss: 1.191\n",
      "[3,   500] loss: 1.112\n",
      "[3,   600] loss: 1.054\n",
      "[3,   700] loss: 0.951\n",
      "[3,   800] loss: 0.927\n",
      "epoch 3\n",
      "[4,   100] loss: 0.837\n",
      "[4,   200] loss: 0.810\n",
      "[4,   300] loss: 0.774\n",
      "[4,   400] loss: 0.742\n",
      "[4,   500] loss: 0.723\n",
      "[4,   600] loss: 0.678\n",
      "[4,   700] loss: 0.643\n",
      "[4,   800] loss: 0.656\n",
      "epoch 4\n",
      "[5,   100] loss: 0.595\n",
      "[5,   200] loss: 0.599\n",
      "[5,   300] loss: 0.575\n",
      "[5,   400] loss: 0.539\n",
      "[5,   500] loss: 0.540\n",
      "[5,   600] loss: 0.492\n",
      "[5,   700] loss: 0.517\n",
      "[5,   800] loss: 0.465\n",
      "epoch 5\n",
      "[6,   100] loss: 0.470\n",
      "[6,   200] loss: 0.468\n",
      "[6,   300] loss: 0.452\n",
      "[6,   400] loss: 0.438\n",
      "[6,   500] loss: 0.441\n",
      "[6,   600] loss: 0.405\n",
      "[6,   700] loss: 0.399\n",
      "[6,   800] loss: 0.411\n",
      "epoch 6\n",
      "[7,   100] loss: 0.396\n",
      "[7,   200] loss: 0.367\n",
      "[7,   300] loss: 0.362\n",
      "[7,   400] loss: 0.369\n",
      "[7,   500] loss: 0.369\n",
      "[7,   600] loss: 0.341\n",
      "[7,   700] loss: 0.335\n",
      "[7,   800] loss: 0.338\n",
      "epoch 7\n",
      "[8,   100] loss: 0.335\n",
      "[8,   200] loss: 0.312\n",
      "[8,   300] loss: 0.312\n",
      "[8,   400] loss: 0.305\n",
      "[8,   500] loss: 0.301\n",
      "[8,   600] loss: 0.311\n",
      "[8,   700] loss: 0.285\n",
      "[8,   800] loss: 0.283\n",
      "epoch 8\n",
      "[9,   100] loss: 0.261\n",
      "[9,   200] loss: 0.259\n",
      "[9,   300] loss: 0.271\n",
      "[9,   400] loss: 0.265\n",
      "[9,   500] loss: 0.255\n",
      "[9,   600] loss: 0.261\n",
      "[9,   700] loss: 0.271\n",
      "[9,   800] loss: 0.257\n",
      "epoch 9\n",
      "[10,   100] loss: 0.244\n",
      "[10,   200] loss: 0.228\n",
      "[10,   300] loss: 0.230\n",
      "[10,   400] loss: 0.224\n",
      "[10,   500] loss: 0.234\n",
      "[10,   600] loss: 0.246\n",
      "[10,   700] loss: 0.221\n",
      "[10,   800] loss: 0.207\n",
      "\n",
      "Finished Training\n"
     ]
    }
   ],
   "source": [
    "# let's train the network\n",
    "def train(net):\n",
    "    for epoch in tqdm(range(10)):\n",
    "        print(\"epoch {}\".format(epoch))\n",
    "        running_loss = 0.0\n",
    "\n",
    "        for i,data in enumerate(train_loader, 0):\n",
    "            # get the inputs; data is a list of [inputs, labels]\n",
    "            inputs, labels = data[0].to(device), data[1].to(device)\n",
    "\n",
    "            # zero the parameter gradients\n",
    "            optimizer.zero_grad()\n",
    "\n",
    "            # forward + backward + optimize\n",
    "            outputs = net(inputs.view(-1,3*100*100))    \n",
    "            loss = criterion(outputs, labels)\n",
    "            loss.backward()\n",
    "            optimizer.step()\n",
    "\n",
    "            # print statistics\n",
    "            running_loss += loss.item()\n",
    "            \n",
    "            if i % 100 == 99:    # print every 100 mini-batches\n",
    "                print('[%d, %5d] loss: %.3f' %(epoch + 1, i + 1, running_loss / 100))\n",
    "                running_loss = 0.0\n",
    "                \n",
    "    print('Finished Training')\n",
    "    \n",
    "train(net)"
   ]
  },
  {
   "cell_type": "code",
   "execution_count": 25,
   "metadata": {},
   "outputs": [],
   "source": [
    "PATH = \"../models/fnn_net.pth\"\n",
    "torch.save(net.state_dict(),PATH)"
   ]
  },
  {
   "cell_type": "code",
   "execution_count": 26,
   "metadata": {},
   "outputs": [
    {
     "data": {
      "application/vnd.jupyter.widget-view+json": {
       "model_id": "3a7af35c06c74e2da363daa8fe31611a",
       "version_major": 2,
       "version_minor": 0
      },
      "text/plain": [
       "HBox(children=(FloatProgress(value=0.0, max=355.0), HTML(value='')))"
      ]
     },
     "metadata": {},
     "output_type": "display_data"
    },
    {
     "name": "stdout",
     "output_type": "stream",
     "text": [
      "\n",
      "Accuracy of the network on the test images: 82 %\n"
     ]
    }
   ],
   "source": [
    "def test(net):\n",
    "\n",
    "    correct = 0\n",
    "    total = 0\n",
    "    with torch.no_grad():\n",
    "        for data in tqdm(test_loader):\n",
    "            images, labels = data[0].to(device), data[1].to(device)\n",
    "            outputs = net(images.view(-1,3*100*100))\n",
    "            _, predicted = torch.max(outputs.data, 1)\n",
    "            total += labels.size(0)\n",
    "            correct += (predicted == labels).sum().item()\n",
    "\n",
    "    print('Accuracy of the network on the test images: %d %%' % (\n",
    "        100 * correct / total))\n",
    "\n",
    "test(net)"
   ]
  },
  {
   "cell_type": "code",
   "execution_count": 27,
   "metadata": {},
   "outputs": [
    {
     "data": {
      "application/vnd.jupyter.widget-view+json": {
       "model_id": "a2614d83fb49405e8da22b8823084c1a",
       "version_major": 2,
       "version_minor": 0
      },
      "text/plain": [
       "HBox(children=(FloatProgress(value=0.0, max=355.0), HTML(value='')))"
      ]
     },
     "metadata": {},
     "output_type": "display_data"
    },
    {
     "name": "stdout",
     "output_type": "stream",
     "text": [
      "\n",
      "Accuracy of Apple Braeburn : 87 %\n",
      "Accuracy of Apple Crimson Snow : 48 %\n",
      "Accuracy of Apple Golden 1 : 100 %\n",
      "Accuracy of Apple Golden 2 : 100 %\n",
      "Accuracy of Apple Golden 3 : 66 %\n",
      "Accuracy of Apple Granny Smith : 92 %\n",
      "Accuracy of Apple Pink Lady : 86 %\n",
      "Accuracy of Apple Red 1 : 17 %\n",
      "Accuracy of Apple Red 2 : 42 %\n",
      "Accuracy of Apple Red 3 : 37 %\n",
      "Accuracy of Apple Red Delicious : 100 %\n",
      "Accuracy of Apple Red Yellow 1 : 92 %\n",
      "Accuracy of Apple Red Yellow 2 : 100 %\n",
      "Accuracy of Apricot : 85 %\n",
      "Accuracy of Avocado : 94 %\n",
      "Accuracy of Avocado ripe : 99 %\n",
      "Accuracy of Banana : 45 %\n",
      "Accuracy of Banana Lady Finger : 80 %\n",
      "Accuracy of Beetroot : 45 %\n",
      "Accuracy of Blueberry : 87 %\n",
      "Accuracy of Cactus fruit : 89 %\n",
      "Accuracy of Cantaloupe 1 : 100 %\n",
      "Accuracy of Cantaloupe 2 : 99 %\n",
      "Accuracy of Carambula : 35 %\n",
      "Accuracy of Cauliflower : 98 %\n",
      "Accuracy of Cherry 1 : 100 %\n",
      "Accuracy of Cherry 2 : 78 %\n",
      "Accuracy of Cherry Rainier : 65 %\n",
      "Accuracy of Cherry Wax Black : 100 %\n",
      "Accuracy of Cherry Wax Red : 99 %\n",
      "Accuracy of Cherry Wax Yellow : 100 %\n",
      "Accuracy of Chestnut : 26 %\n",
      "Accuracy of Clementine : 100 %\n",
      "Accuracy of Cocos : 90 %\n",
      "Accuracy of  Corn : 33 %\n",
      "Accuracy of Corn Husk : 61 %\n",
      "Accuracy of Cucumber Ripe 2 : 53 %\n",
      "Accuracy of Dates : 89 %\n",
      "Accuracy of Eggplant : 40 %\n",
      "Accuracy of   Fig : 92 %\n",
      "Accuracy of Ginger Root : 49 %\n",
      "Accuracy of Granadilla : 100 %\n",
      "Accuracy of Grape Blue : 95 %\n",
      "Accuracy of Grape Pink : 100 %\n",
      "Accuracy of Grape White : 100 %\n",
      "Accuracy of Grape White 2 : 100 %\n",
      "Accuracy of Grape White 3 : 100 %\n",
      "Accuracy of Grape White 4 : 100 %\n",
      "Accuracy of Grapefruit Pink : 100 %\n",
      "Accuracy of Grapefruit White : 100 %\n",
      "Accuracy of Guava : 90 %\n",
      "Accuracy of Hazelnut : 98 %\n",
      "Accuracy of Huckleberry : 100 %\n",
      "Accuracy of  Kaki : 91 %\n",
      "Accuracy of  Kiwi : 100 %\n",
      "Accuracy of Kumquats : 83 %\n",
      "Accuracy of Lemon : 67 %\n",
      "Accuracy of Lemon Meyer : 90 %\n",
      "Accuracy of Limes : 41 %\n",
      "Accuracy of Lychee : 100 %\n",
      "Accuracy of Mandarine : 100 %\n",
      "Accuracy of Mango : 83 %\n",
      "Accuracy of Mango Red : 26 %\n",
      "Accuracy of Mangostan : 100 %\n",
      "Accuracy of Maracuja : 80 %\n",
      "Accuracy of Melon Piel de Sapo : 97 %\n",
      "Accuracy of Mulberry : 98 %\n",
      "Accuracy of Nectarine : 40 %\n",
      "Accuracy of Nectarine Flat : 48 %\n",
      "Accuracy of Nut Forest : 100 %\n",
      "Accuracy of Nut Pecan : 69 %\n",
      "Accuracy of Onion Red : 71 %\n",
      "Accuracy of Onion Red Peeled : 100 %\n",
      "Accuracy of Onion White : 100 %\n",
      "Accuracy of Papaya : 100 %\n",
      "Accuracy of Passion Fruit : 100 %\n",
      "Accuracy of Peach : 60 %\n",
      "Accuracy of Peach 2 : 100 %\n",
      "Accuracy of Peach Flat : 20 %\n",
      "Accuracy of  Pear : 87 %\n",
      "Accuracy of Pear 2 :  3 %\n",
      "Accuracy of Pear Abate : 78 %\n",
      "Accuracy of Pear Forelle : 88 %\n",
      "Accuracy of Pear Kaiser : 99 %\n",
      "Accuracy of Pear Monster : 92 %\n",
      "Accuracy of Pear Red : 48 %\n",
      "Accuracy of Pear Stone : 96 %\n",
      "Accuracy of Pear Williams : 92 %\n",
      "Accuracy of Pepino : 83 %\n",
      "Accuracy of Pepper Green : 100 %\n",
      "Accuracy of Pepper Orange : 90 %\n",
      "Accuracy of Pepper Red : 72 %\n",
      "Accuracy of Pepper Yellow : 100 %\n",
      "Accuracy of Banana Red : 63 %\n",
      "Accuracy of Cucumber Ripe : 84 %\n",
      "Accuracy of Kohlrabi : 65 %\n",
      "Accuracy of Orange : 100 %\n",
      "Accuracy of Physalis : 100 %\n",
      "Accuracy of Physalis with Husk : 100 %\n",
      "Accuracy of Pineapple : 98 %\n",
      "Accuracy of Pineapple Mini : 94 %\n",
      "Accuracy of Pitahaya Red : 59 %\n",
      "Accuracy of  Plum : 86 %\n",
      "Accuracy of Plum 2 : 98 %\n",
      "Accuracy of Plum 3 : 97 %\n",
      "Accuracy of Pomegranate : 68 %\n",
      "Accuracy of Pomelo Sweetie : 91 %\n",
      "Accuracy of Potato Red : 45 %\n",
      "Accuracy of Potato Red Washed : 40 %\n",
      "Accuracy of Potato Sweet : 37 %\n",
      "Accuracy of Potato White : 67 %\n",
      "Accuracy of Quince : 100 %\n",
      "Accuracy of Rambutan : 90 %\n",
      "Accuracy of Raspberry : 100 %\n",
      "Accuracy of Redcurrant : 100 %\n",
      "Accuracy of Salak : 100 %\n",
      "Accuracy of Strawberry : 72 %\n",
      "Accuracy of Strawberry Wedge : 86 %\n",
      "Accuracy of Tamarillo : 99 %\n",
      "Accuracy of Tangelo : 100 %\n",
      "Accuracy of Tomato 1 : 99 %\n",
      "Accuracy of Tomato 2 : 93 %\n",
      "Accuracy of Tomato 3 : 100 %\n",
      "Accuracy of Tomato 4 : 95 %\n",
      "Accuracy of Tomato Cherry Red : 100 %\n",
      "Accuracy of Tomato Heart : 88 %\n",
      "Accuracy of Tomato Maroon : 100 %\n",
      "Accuracy of Tomato not Ripened : 60 %\n",
      "Accuracy of Tomato Yellow : 100 %\n",
      "Accuracy of Walnut : 100 %\n",
      "Accuracy of Watermelon : 56 %\n"
     ]
    }
   ],
   "source": [
    "# label wise accuracy\n",
    "class_correct = list(0. for i in range(131))\n",
    "class_total = list(0. for i in range(131))\n",
    "with torch.no_grad():\n",
    "    for data in tqdm(test_loader):\n",
    "        images, labels = data[0].to(device), data[1].to(device)\n",
    "        outputs = net(images.view(-1,3*100*100))\n",
    "        _, predicted = torch.max(outputs, 1)\n",
    "        c = (predicted == labels).squeeze()\n",
    "        \n",
    "        for i in range(len(labels)):\n",
    "            label = labels[i]\n",
    "            class_correct[label] += c[i].item()\n",
    "            class_total[label] += 1\n",
    "\n",
    "for i in range(131):\n",
    "    print('Accuracy of %5s : %2d %%' % (\n",
    "    class_names[i], 100 * class_correct[i] / class_total[i]))"
   ]
  },
  {
   "cell_type": "markdown",
   "metadata": {},
   "source": [
    "* In sample accuracy can be added to train function\n",
    "\n",
    "* Plots will be done (loss + in_sample_accuracy etc) for model analysis\n",
    "\n",
    "* This network will be extended (maybe adding new layer or changing other parameters)\n",
    "\n",
    "* Other architecture (especially CNN and its variants) will be tested"
   ]
  }
 ],
 "metadata": {
  "kernelspec": {
   "display_name": "Python 3",
   "language": "python",
   "name": "python3"
  },
  "language_info": {
   "codemirror_mode": {
    "name": "ipython",
    "version": 3
   },
   "file_extension": ".py",
   "mimetype": "text/x-python",
   "name": "python",
   "nbconvert_exporter": "python",
   "pygments_lexer": "ipython3",
   "version": "3.8.3"
  }
 },
 "nbformat": 4,
 "nbformat_minor": 4
}
